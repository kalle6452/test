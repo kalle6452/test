{
  "nbformat": 4,
  "nbformat_minor": 0,
  "metadata": {
    "colab": {
      "name": "Untitled0.ipynb",
      "provenance": [],
      "authorship_tag": "ABX9TyOHtds8tL9oTKBOQZCVuFQ+",
      "include_colab_link": true
    },
    "kernelspec": {
      "name": "python3",
      "display_name": "Python 3"
    },
    "language_info": {
      "name": "python"
    }
  },
  "cells": [
    {
      "cell_type": "markdown",
      "metadata": {
        "id": "view-in-github",
        "colab_type": "text"
      },
      "source": [
        "<a href=\"https://colab.research.google.com/github/kalle6452/test/blob/main/Untitled0.ipynb\" target=\"_parent\"><img src=\"https://colab.research.google.com/assets/colab-badge.svg\" alt=\"Open In Colab\"/></a>"
      ]
    },
    {
      "cell_type": "code",
      "execution_count": null,
      "metadata": {
        "id": "0_tcrjHguo2B"
      },
      "outputs": [],
      "source": [
        "from fastai.vision.all import *"
      ]
    },
    {
      "cell_type": "code",
      "source": [
        "path = untar_data(URLs.PETS)"
      ],
      "metadata": {
        "colab": {
          "base_uri": "https://localhost:8080/",
          "height": 37
        },
        "id": "6oH75EI5utdD",
        "outputId": "c3298f30-f247-4887-d7de-68d6b17f6813"
      },
      "execution_count": null,
      "outputs": [
        {
          "output_type": "display_data",
          "data": {
            "text/plain": [
              "<IPython.core.display.HTML object>"
            ],
            "text/html": [
              "\n",
              "<style>\n",
              "    /* Turns off some styling */\n",
              "    progress {\n",
              "        /* gets rid of default border in Firefox and Opera. */\n",
              "        border: none;\n",
              "        /* Needs to be in here for Safari polyfill so background images work as expected. */\n",
              "        background-size: auto;\n",
              "    }\n",
              "    progress:not([value]), progress:not([value])::-webkit-progress-bar {\n",
              "        background: repeating-linear-gradient(45deg, #7e7e7e, #7e7e7e 10px, #5c5c5c 10px, #5c5c5c 20px);\n",
              "    }\n",
              "    .progress-bar-interrupted, .progress-bar-interrupted::-webkit-progress-bar {\n",
              "        background: #F44336;\n",
              "    }\n",
              "</style>\n"
            ]
          },
          "metadata": {}
        },
        {
          "output_type": "display_data",
          "data": {
            "text/plain": [
              "<IPython.core.display.HTML object>"
            ],
            "text/html": [
              "\n",
              "    <div>\n",
              "      <progress value='811712512' class='' max='811706944' style='width:300px; height:20px; vertical-align: middle;'></progress>\n",
              "      100.00% [811712512/811706944 00:19&lt;00:00]\n",
              "    </div>\n",
              "    "
            ]
          },
          "metadata": {}
        }
      ]
    },
    {
      "cell_type": "code",
      "source": [
        "path.ls()\n",
        "type(path)"
      ],
      "metadata": {
        "colab": {
          "base_uri": "https://localhost:8080/"
        },
        "id": "bhaos2Eau5d9",
        "outputId": "1cd90694-17cf-4b81-b514-be1477719d74"
      },
      "execution_count": null,
      "outputs": [
        {
          "output_type": "execute_result",
          "data": {
            "text/plain": [
              "pathlib.PosixPath"
            ]
          },
          "metadata": {},
          "execution_count": 6
        }
      ]
    },
    {
      "cell_type": "code",
      "source": [
        "files = get_image_files(path/\"images\")\n",
        "len(files)\n",
        "files"
      ],
      "metadata": {
        "colab": {
          "base_uri": "https://localhost:8080/"
        },
        "id": "iSHDh975u74L",
        "outputId": "0c1aa944-b3a4-4b0d-b8e5-caefa8e16b62"
      },
      "execution_count": null,
      "outputs": [
        {
          "output_type": "execute_result",
          "data": {
            "text/plain": [
              "(#7390) [Path('/root/.fastai/data/oxford-iiit-pet/images/leonberger_79.jpg'),Path('/root/.fastai/data/oxford-iiit-pet/images/keeshond_132.jpg'),Path('/root/.fastai/data/oxford-iiit-pet/images/pomeranian_125.jpg'),Path('/root/.fastai/data/oxford-iiit-pet/images/american_pit_bull_terrier_60.jpg'),Path('/root/.fastai/data/oxford-iiit-pet/images/pomeranian_155.jpg'),Path('/root/.fastai/data/oxford-iiit-pet/images/Abyssinian_50.jpg'),Path('/root/.fastai/data/oxford-iiit-pet/images/Egyptian_Mau_178.jpg'),Path('/root/.fastai/data/oxford-iiit-pet/images/samoyed_108.jpg'),Path('/root/.fastai/data/oxford-iiit-pet/images/wheaten_terrier_72.jpg'),Path('/root/.fastai/data/oxford-iiit-pet/images/miniature_pinscher_185.jpg')...]"
            ]
          },
          "metadata": {},
          "execution_count": 7
        }
      ]
    }
  ]
}